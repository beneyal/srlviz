{
 "cells": [
  {
   "cell_type": "code",
   "execution_count": 2,
   "metadata": {},
   "outputs": [],
   "source": [
    "from viz import db, Annotation\n",
    "\n",
    "import json\n",
    "import os\n",
    "\n",
    "from collections import namedtuple\n",
    "from itertools import groupby\n",
    "from operator import itemgetter\n",
    "\n",
    "import matplotlib.pyplot as plt\n",
    "import numpy as np\n",
    "\n",
    "from conllu.parser import parse as conllu_parse\n",
    "from imblearn.over_sampling import RandomOverSampler\n",
    "from imblearn.pipeline import Pipeline\n",
    "from sklearn.externals import joblib\n",
    "from sklearn.feature_extraction import DictVectorizer\n",
    "from sklearn.linear_model import LogisticRegression, PassiveAggressiveClassifier\n",
    "from sklearn.model_selection import train_test_split\n",
    "from sklearn.metrics import classification_report\n",
    "from sklearn.naive_bayes import MultinomialNB\n",
    "\n",
    "%matplotlib inline"
   ]
  },
  {
   "cell_type": "code",
   "execution_count": 10,
   "metadata": {},
   "outputs": [],
   "source": [
    "DATA_ROOT = 'static/datasubset/'\n",
    "\n",
    "def create_data(filename):\n",
    "    with open(os.path.join(DATA_ROOT, 'english_parsed', filename), encoding='utf-8') as f:\n",
    "        english = conllu_parse(f.read())\n",
    "    with open(os.path.join(DATA_ROOT, 'hebrew_parsed', filename), encoding='utf-8') as f:\n",
    "        hebrew = conllu_parse(f.read())\n",
    "    with open(os.path.join(DATA_ROOT, 'english_srl', filename), encoding='utf-8') as f:\n",
    "        english_srl = [json.loads(line.strip()) for line in f]\n",
    "    with open(os.path.join(DATA_ROOT, 'fastalign_outputs', filename + '.forward'), encoding='utf-8') as f:\n",
    "        alignment = []\n",
    "        for line in f:\n",
    "            dashed_pairs = line.strip().split(' ')\n",
    "            pairs = [(int(i), int(j)) for i, j in [p.split('-') for p in dashed_pairs]]\n",
    "            alignment.append(pairs)\n",
    "    sents = []\n",
    "    for en, he, srl, alignment_ in zip(english, hebrew, english_srl, alignment):\n",
    "        obj = {\n",
    "            'imdbid': filename.split('_')[2],\n",
    "            'english': {\n",
    "                'frames': srl['frames'],\n",
    "                'words': en\n",
    "            },\n",
    "            'hebrew': {\n",
    "                'words': he\n",
    "            },\n",
    "            'alignment': alignment_,\n",
    "        }\n",
    "        sents.append(obj)\n",
    "    return sents\n",
    "\n",
    "Node = namedtuple('Node', 'token distance')\n",
    "\n",
    "def parse_tree_depth(sentence, root):\n",
    "    visited, stack = [], [root]\n",
    "    while stack:\n",
    "        node = stack.pop()\n",
    "        if node not in visited:\n",
    "            visited.append(node)\n",
    "            stack.extend([Node(t, node.distance + 1) for t in sentence if t['head'] == node.token['id']])\n",
    "    return max(visited, key=itemgetter(1)).distance\n",
    "\n",
    "\n",
    "def features(sentence):\n",
    "    # rating = ia.get_movie(sentence['imdbid']).get('rating', 0.0)\n",
    "    en_sent_length = len(sentence['english']['words'])\n",
    "    he_sent_length = len(sentence['hebrew']['words'])\n",
    "    nframes = len(sentence['english']['frames'])\n",
    "    alignment = sorted(sentence['alignment'])\n",
    "    alignment_groups = []\n",
    "    for _, g in groupby(alignment, key=itemgetter(0)):\n",
    "        alignment_groups.append(list(g))\n",
    "    one_to_ones = len([g for g in alignment_groups if len(g) == 1])\n",
    "    one_to_manys = len(alignment_groups) - one_to_ones\n",
    "\n",
    "    en_head, = [x for x in sentence['english']['words'] if x['head'] == 0]\n",
    "    he_head, = [x for x in sentence['hebrew']['words'] if x['head'] == 0]\n",
    "    en_parse_tree_depth = parse_tree_depth(sentence['english']['words'], Node(en_head, 0))\n",
    "    he_parse_tree_depth = parse_tree_depth(sentence['hebrew']['words'], Node(he_head, 0))\n",
    "\n",
    "    return {\n",
    "        'en-sent-length': en_sent_length,\n",
    "        'he-sent-length': he_sent_length,\n",
    "        'en-he-ratio': en_sent_length / he_sent_length,\n",
    "        'number-of-frames': nframes,\n",
    "        '1-1s': one_to_ones,\n",
    "        '1-ns': one_to_manys,\n",
    "        'en-parse-tree-depth': en_parse_tree_depth,\n",
    "        'he-parse-tree-depth': he_parse_tree_depth\n",
    "    }"
   ]
  },
  {
   "cell_type": "code",
   "execution_count": 11,
   "metadata": {},
   "outputs": [],
   "source": [
    "files = os.listdir('static/datasubset/english_parsed/')\n",
    "d = create_data(files[0])[0]"
   ]
  },
  {
   "cell_type": "code",
   "execution_count": 49,
   "metadata": {},
   "outputs": [
    {
     "data": {
      "text/plain": [
       "[{'annotationSets': [{'frameElements': [{'name': 'Message',\n",
       "      'spans': [{'end': 14,\n",
       "        'start': 3,\n",
       "        'text': 'When you make a friend , you take on a responsibility'}]},\n",
       "     {'name': 'Speaker',\n",
       "      'spans': [{'end': 0, 'start': 0, 'text': 'Amanonce'}]}],\n",
       "    'rank': 0,\n",
       "    'score': 125.06292807463431}],\n",
       "  'target': {'name': 'Statement',\n",
       "   'spans': [{'end': 3, 'start': 0, 'text': 'said'}]}},\n",
       " {'annotationSets': [{'frameElements': [],\n",
       "    'rank': 0,\n",
       "    'score': 24.19445037584726}],\n",
       "  'target': {'name': 'Temporal_collocation',\n",
       "   'spans': [{'end': 3, 'start': 3, 'text': 'When'}]}},\n",
       " {'annotationSets': [{'frameElements': [{'name': 'Cause',\n",
       "      'spans': [{'end': 4, 'start': 6, 'text': 'you'}]},\n",
       "     {'name': 'Effect',\n",
       "      'spans': [{'end': 8, 'start': 5, 'text': 'a friend'}]}],\n",
       "    'rank': 0,\n",
       "    'score': 64.00957827767974}],\n",
       "  'target': {'name': 'Causation',\n",
       "   'spans': [{'end': 3, 'start': 3, 'text': 'make'}]}},\n",
       " {'annotationSets': [{'frameElements': [],\n",
       "    'rank': 0,\n",
       "    'score': 42.40445117881665}],\n",
       "  'target': {'name': 'Personal_relationship',\n",
       "   'spans': [{'end': 8, 'start': 8, 'text': 'friend'}]}},\n",
       " {'annotationSets': [{'frameElements': [{'name': 'Dependent',\n",
       "      'spans': [{'end': 8, 'start': 3, 'text': 'When you make a friend'}]},\n",
       "     {'name': 'Requirement',\n",
       "      'spans': [{'end': 14, 'start': 10, 'text': 'on'}]}],\n",
       "    'rank': 0,\n",
       "    'score': 17.854462989629816}],\n",
       "  'target': {'name': 'Have_as_requirement',\n",
       "   'spans': [{'end': 10, 'start': 8, 'text': 'take'}]}},\n",
       " {'annotationSets': [{'frameElements': [{'name': 'Responsible_party',\n",
       "      'spans': [{'end': 9, 'start': 10, 'text': 'you'}]}],\n",
       "    'rank': 0,\n",
       "    'score': 19.423344402446393}],\n",
       "  'target': {'name': 'Being_obligated',\n",
       "   'spans': [{'end': 14, 'start': 14, 'text': 'responsibility'}]}}]"
      ]
     },
     "execution_count": 49,
     "metadata": {},
     "output_type": "execute_result"
    }
   ],
   "source": [
    "from itertools import groupby\n",
    "from operator import itemgetter\n",
    "\n",
    "def project_srl(english_srl, alignment):\n",
    "    he2en_alignment = {}\n",
    "    for key, group in groupby(sorted(alignment, key=itemgetter(1)), key=itemgetter(1)):\n",
    "        he2en_alignment[key], = list(map(itemgetter(0), group))\n",
    "    hebrew_srl = english_srl\n",
    "    for obj in hebrew_srl:\n",
    "        obj['target']['spans'][0]['start'] = he2en_alignment[obj['target']['spans'][0]['start']]\n",
    "        obj['target']['spans'][0]['end'] = he2en_alignment[obj['target']['spans'][0]['end']]\n",
    "        for fe in obj['annotationSets'][0]['frameElements']:\n",
    "            fe['spans'][0]['start'] = he2en_alignment[fe['spans'][0]['start']]\n",
    "            fe['spans'][0]['end'] = he2en_alignment[fe['spans'][0]['end']]\n",
    "    return hebrew_srl\n",
    "\n",
    "project_srl(d['english']['frames'], d['alignment'])"
   ]
  },
  {
   "cell_type": "code",
   "execution_count": 29,
   "metadata": {},
   "outputs": [],
   "source": [
    "def transform_to_dataset(annotations):\n",
    "    X, y = [], []\n",
    "    for a in annotations:\n",
    "        filename = a.file\n",
    "        sent_idx = a.sentence\n",
    "        label = a.message == 'ok'\n",
    "        X.append(features(create_data(filename)[sent_idx]))\n",
    "        y.append(label)\n",
    "    return X, y"
   ]
  },
  {
   "cell_type": "code",
   "execution_count": 30,
   "metadata": {},
   "outputs": [],
   "source": [
    "X_train, X_test, y_train, y_test = train_test_split(*transform_to_dataset(Annotation.query.all()), random_state=0)"
   ]
  },
  {
   "cell_type": "code",
   "execution_count": 41,
   "metadata": {},
   "outputs": [
    {
     "name": "stdout",
     "output_type": "stream",
     "text": [
      "Training Completed\n"
     ]
    }
   ],
   "source": [
    "vectorizer = DictVectorizer()\n",
    "multinomial_nb = MultinomialNB()\n",
    "\n",
    "clf = Pipeline([\n",
    "        ('vectorizer', vectorizer),\n",
    "        ('over-sampler', RandomOverSampler(random_state=0)),\n",
    "        ('classifier', multinomial_nb)\n",
    "    ])\n",
    "\n",
    "clf.fit(X_train, y_train)\n",
    "\n",
    "print('Training Completed')"
   ]
  },
  {
   "cell_type": "code",
   "execution_count": 43,
   "metadata": {},
   "outputs": [
    {
     "name": "stdout",
     "output_type": "stream",
     "text": [
      "-3.8465\ten-he-ratio\n",
      "-3.1323\t1-ns\n",
      "-2.6080\ten-parse-tree-depth\n",
      "-2.4838\tnumber-of-frames\n",
      "-2.3554\the-parse-tree-depth\n",
      "-1.8269\t1-1s\n",
      "-1.3585\ten-sent-length\n",
      "-1.3277\the-sent-length\n"
     ]
    }
   ],
   "source": [
    "for coef, fn in sorted(zip(multinomial_nb.coef_.tolist()[0], vectorizer.get_feature_names())):\n",
    "    print('%.4f' % (coef,), fn, sep='\\t')"
   ]
  },
  {
   "cell_type": "code",
   "execution_count": 44,
   "metadata": {},
   "outputs": [
    {
     "data": {
      "image/png": "[encoded data removed]",
      "text/plain": [
       "<matplotlib.figure.Figure at 0x17c399600f0>"
      ]
     },
     "metadata": {},
     "output_type": "display_data"
    }
   ],
   "source": [
    "DATA_ROOT = 'static/dataset/'\n",
    "\n",
    "X = []\n",
    "sents = []\n",
    "files = os.listdir('static/dataset/english_parsed/')\n",
    "for file in files:\n",
    "    try:\n",
    "        data = create_data(file)\n",
    "        for idx, sent in enumerate(data):\n",
    "            try:\n",
    "                features_ = features(sent)\n",
    "                X.append(features_)\n",
    "                sents.append((file, idx))\n",
    "            except ValueError:\n",
    "                pass\n",
    "    except ValueError:\n",
    "        continue\n",
    "\n",
    "plt.figure(figsize=(20, 5))\n",
    "plt.hist(clf.predict_proba(X)[:,1], bins=50, range=(0, 1))\n",
    "plt.xticks(np.linspace(0, 1, 21))\n",
    "plt.savefig('proba.png')"
   ]
  },
  {
   "cell_type": "code",
   "execution_count": 13,
   "metadata": {},
   "outputs": [
    {
     "data": {
      "text/plain": [
       "112004"
      ]
     },
     "execution_count": 13,
     "metadata": {},
     "output_type": "execute_result"
    }
   ],
   "source": [
    "len(sents)"
   ]
  },
  {
   "cell_type": "code",
   "execution_count": 46,
   "metadata": {},
   "outputs": [],
   "source": [
    "predicted_proba = clf.predict_proba(X)[:, 1]\n",
    "\n",
    "for (file, idx), y_prob in zip(sents, predicted_proba):\n",
    "    if y_prob >= 0.80:\n",
    "        db.session.add(Annotation(file=file, sentence=idx, message='ok'))\n",
    "db.session.commit()"
   ]
  },
  {
   "cell_type": "code",
   "execution_count": 45,
   "metadata": {},
   "outputs": [
    {
     "data": {
      "text/plain": [
       "274"
      ]
     },
     "execution_count": 45,
     "metadata": {},
     "output_type": "execute_result"
    }
   ],
   "source": [
    "true_proba = clf.predict_proba(X)[:, 1]\n",
    "true_proba[true_proba >= 0.80].size"
   ]
  },
  {
   "cell_type": "code",
   "execution_count": null,
   "metadata": {},
   "outputs": [],
   "source": []
  }
 ],
 "metadata": {
  "kernelspec": {
   "display_name": "Python 3",
   "language": "python",
   "name": "python3"
  },
  "language_info": {
   "codemirror_mode": {
    "name": "ipython",
    "version": 3
   },
   "file_extension": ".py",
   "mimetype": "text/x-python",
   "name": "python",
   "nbconvert_exporter": "python",
   "pygments_lexer": "ipython3",
   "version": "3.7.0"
  }
 },
 "nbformat": 4,
 "nbformat_minor": 2
}
