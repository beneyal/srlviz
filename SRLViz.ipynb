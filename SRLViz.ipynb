{
 "cells": [
  {
   "cell_type": "code",
   "execution_count": 1,
   "metadata": {},
   "outputs": [],
   "source": [
    "from viz import db, Annotation\n",
    "\n",
    "import json\n",
    "import os\n",
    "\n",
    "from collections import namedtuple\n",
    "from itertools import groupby\n",
    "from operator import itemgetter\n",
    "\n",
    "import matplotlib.pyplot as plt\n",
    "import numpy as np\n",
    "import joblib\n",
    "from conllu import parse as conllu_parse\n",
    "from imblearn.over_sampling import RandomOverSampler\n",
    "from imblearn.pipeline import Pipeline\n",
    "from sklearn.feature_extraction import DictVectorizer\n",
    "from sklearn.linear_model import LogisticRegression, PassiveAggressiveClassifier\n",
    "from sklearn.model_selection import train_test_split\n",
    "from sklearn.metrics import classification_report\n",
    "from sklearn.naive_bayes import MultinomialNB\n",
    "from tqdm import tqdm\n",
    "\n",
    "%matplotlib inline"
   ]
  },
  {
   "cell_type": "code",
   "execution_count": 2,
   "metadata": {},
   "outputs": [],
   "source": [
    "DATA_ROOT = 'static/datasubset/'\n",
    "\n",
    "def create_data(filename):\n",
    "    with open(os.path.join(DATA_ROOT, 'english_parsed', filename), encoding='utf-8') as f:\n",
    "        english = conllu_parse(f.read())\n",
    "    with open(os.path.join(DATA_ROOT, 'hebrew_parsed', filename), encoding='utf-8') as f:\n",
    "        hebrew = conllu_parse(f.read())\n",
    "    with open(os.path.join(DATA_ROOT, 'english_srl', filename), encoding='utf-8') as f:\n",
    "        english_srl = [json.loads(line.strip()) for line in f]\n",
    "    with open(os.path.join(DATA_ROOT, 'fastalign_outputs', filename), encoding='utf-8') as f:\n",
    "        alignment = []\n",
    "        for line in f:\n",
    "            dashed_pairs = line.strip().split(' ')\n",
    "            pairs = [(int(i), int(j)) for i, j in [p.split('-') for p in dashed_pairs]]\n",
    "            alignment.append(pairs)\n",
    "    sents = []\n",
    "    for en, he, srl, alignment_ in zip(english, hebrew, english_srl, alignment):\n",
    "        obj = {\n",
    "            'imdbid': filename.split('_')[2],\n",
    "            'english': {\n",
    "                'frames': srl['frames'],\n",
    "                'words': en\n",
    "            },\n",
    "            'hebrew': {\n",
    "                'words': he\n",
    "            },\n",
    "            'alignment': alignment_,\n",
    "        }\n",
    "        sents.append(obj)\n",
    "    return sents\n",
    "\n",
    "Node = namedtuple('Node', 'token distance')\n",
    "\n",
    "def parse_tree_depth(sentence, root):\n",
    "    visited, stack = [], [root]\n",
    "    while stack:\n",
    "        node = stack.pop()\n",
    "        if node not in visited:\n",
    "            visited.append(node)\n",
    "            stack.extend([Node(t, node.distance + 1) for t in sentence if t['head'] == node.token['id']])\n",
    "    return max(visited, key=itemgetter(1)).distance\n",
    "\n",
    "\n",
    "def features(sentence):\n",
    "    # rating = ia.get_movie(sentence['imdbid']).get('rating', 0.0)\n",
    "    en_sent_length = len(sentence['english']['words'])\n",
    "    he_sent_length = len(sentence['hebrew']['words'])\n",
    "    nframes = len(sentence['english']['frames'])\n",
    "    alignment = sorted(sentence['alignment'])\n",
    "    alignment_groups = []\n",
    "    for _, g in groupby(alignment, key=itemgetter(0)):\n",
    "        alignment_groups.append(list(g))\n",
    "    one_to_ones = len([g for g in alignment_groups if len(g) == 1])\n",
    "    one_to_manys = len(alignment_groups) - one_to_ones\n",
    "\n",
    "    en_head, = [x for x in sentence['english']['words'] if x['head'] == 0]\n",
    "    he_head, = [x for x in sentence['hebrew']['words'] if x['head'] == 0]\n",
    "    en_parse_tree_depth = parse_tree_depth(sentence['english']['words'], Node(en_head, 0))\n",
    "    he_parse_tree_depth = parse_tree_depth(sentence['hebrew']['words'], Node(he_head, 0))\n",
    "\n",
    "    return {\n",
    "        'en-sent-length': en_sent_length,\n",
    "        'he-sent-length': he_sent_length,\n",
    "        'en-he-ratio': en_sent_length / he_sent_length,\n",
    "        'number-of-frames': nframes,\n",
    "        '1-1s': one_to_ones,\n",
    "        '1-ns': one_to_manys,\n",
    "        'en-parse-tree-depth': en_parse_tree_depth,\n",
    "        'he-parse-tree-depth': he_parse_tree_depth\n",
    "    }"
   ]
  },
  {
   "cell_type": "code",
   "execution_count": 3,
   "metadata": {},
   "outputs": [],
   "source": [
    "def transform_to_dataset(annotations):\n",
    "    X, y = [], []\n",
    "    for a in annotations:\n",
    "        filename = a.file\n",
    "        sent_idx = a.sentence\n",
    "        label = a.message == 'ok'\n",
    "        X.append(features(create_data(filename)[sent_idx]))\n",
    "        y.append(label)\n",
    "    return X, y"
   ]
  },
  {
   "cell_type": "code",
   "execution_count": 4,
   "metadata": {},
   "outputs": [],
   "source": [
    "X_train, X_test, y_train, y_test = train_test_split(*transform_to_dataset(Annotation.query.all()), random_state=0)"
   ]
  },
  {
   "cell_type": "code",
   "execution_count": 5,
   "metadata": {},
   "outputs": [
    {
     "name": "stdout",
     "output_type": "stream",
     "text": [
      "Training Completed\n"
     ]
    }
   ],
   "source": [
    "multinomial_nb = MultinomialNB()\n",
    "\n",
    "clf = Pipeline([\n",
    "    ('vectorizer', DictVectorizer(sparse=True)),\n",
    "    ('over-sampler', RandomOverSampler(random_state=0)),\n",
    "#     ('classifier', PassiveAggressiveClassifier(max_iter=50))\n",
    "    ('classifier', multinomial_nb)\n",
    "])\n",
    "\n",
    "clf.fit(X_train, y_train)\n",
    "\n",
    "print('Training Completed')"
   ]
  },
  {
   "cell_type": "code",
   "execution_count": 6,
   "metadata": {},
   "outputs": [
    {
     "name": "stderr",
     "output_type": "stream",
     "text": [
      "100%|████████████████████████████████████████████████████████████████████████████████| 29616/29616 [6:00:58<00:00,  1.37it/s]\n"
     ]
    }
   ],
   "source": [
    "DATA_ROOT = 'static/dataset/'\n",
    "\n",
    "X = []\n",
    "sents = []\n",
    "files = os.listdir('static/dataset/english_parsed/')\n",
    "for file in tqdm(files):\n",
    "    try:\n",
    "        data = create_data(file)\n",
    "        for idx, sent in enumerate(data):\n",
    "            try:\n",
    "                features_ = features(sent)\n",
    "                X.append(features_)\n",
    "                sents.append((file, idx))\n",
    "            except ValueError:\n",
    "                pass\n",
    "    except ValueError:\n",
    "        continue"
   ]
  },
  {
   "cell_type": "code",
   "execution_count": 7,
   "metadata": {},
   "outputs": [
    {
     "data": {
      "image/png": "[encoded data removed]",
      "text/plain": [
       "<Figure size 1440x360 with 1 Axes>"
      ]
     },
     "metadata": {
      "needs_background": "light"
     },
     "output_type": "display_data"
    }
   ],
   "source": [
    "plt.figure(figsize=(20, 5))\n",
    "plt.hist(clf.predict_proba(X)[:,1], bins=50, range=(0, 1))\n",
    "plt.xticks(np.linspace(0, 1, 21))\n",
    "plt.savefig('proba.png')"
   ]
  },
  {
   "cell_type": "code",
   "execution_count": 8,
   "metadata": {},
   "outputs": [
    {
     "data": {
      "text/plain": [
       "21590979"
      ]
     },
     "execution_count": 8,
     "metadata": {},
     "output_type": "execute_result"
    }
   ],
   "source": [
    "len(sents)"
   ]
  },
  {
   "cell_type": "code",
   "execution_count": 9,
   "metadata": {},
   "outputs": [],
   "source": [
    "true_proba = clf.predict_proba(X)[:, 1]"
   ]
  },
  {
   "cell_type": "code",
   "execution_count": 12,
   "metadata": {},
   "outputs": [
    {
     "data": {
      "text/plain": [
       "21738"
      ]
     },
     "execution_count": 12,
     "metadata": {},
     "output_type": "execute_result"
    }
   ],
   "source": [
    "true_proba[true_proba >= 0.80].size"
   ]
  },
  {
   "cell_type": "code",
   "execution_count": 13,
   "metadata": {},
   "outputs": [],
   "source": [
    "for (file, idx), y_prob in zip(sents, true_proba):\n",
    "    if y_prob >= 0.80:\n",
    "        db.session.add(Annotation(file=file, sentence=idx, message='ok'))\n",
    "db.session.commit()"
   ]
  },
  {
   "cell_type": "code",
   "execution_count": 14,
   "metadata": {},
   "outputs": [
    {
     "data": {
      "text/plain": [
       "['classifier.joblib']"
      ]
     },
     "execution_count": 14,
     "metadata": {},
     "output_type": "execute_result"
    }
   ],
   "source": [
    "joblib.dump(clf, \"classifier.joblib\")"
   ]
  },
  {
   "cell_type": "code",
   "execution_count": null,
   "metadata": {},
   "outputs": [],
   "source": []
  }
 ],
 "metadata": {
  "kernelspec": {
   "display_name": "Python 3",
   "language": "python",
   "name": "python3"
  },
  "language_info": {
   "codemirror_mode": {
    "name": "ipython",
    "version": 3
   },
   "file_extension": ".py",
   "mimetype": "text/x-python",
   "name": "python",
   "nbconvert_exporter": "python",
   "pygments_lexer": "ipython3",
   "version": "3.7.3"
  }
 },
 "nbformat": 4,
 "nbformat_minor": 4
}
